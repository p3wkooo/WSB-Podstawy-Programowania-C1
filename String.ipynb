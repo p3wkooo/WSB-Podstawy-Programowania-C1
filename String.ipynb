{
  "nbformat": 4,
  "nbformat_minor": 0,
  "metadata": {
    "colab": {
      "provenance": [],
      "authorship_tag": "ABX9TyPsVDGZ196NAtRjFvcF4kuJ",
      "include_colab_link": true
    },
    "kernelspec": {
      "name": "python3",
      "display_name": "Python 3"
    },
    "language_info": {
      "name": "python"
    }
  },
  "cells": [
    {
      "cell_type": "markdown",
      "metadata": {
        "id": "view-in-github",
        "colab_type": "text"
      },
      "source": [
        "<a href=\"https://colab.research.google.com/github/p3wkooo/WSB-Podstawy-Programowania-C1/blob/master/String.ipynb\" target=\"_parent\"><img src=\"https://colab.research.google.com/assets/colab-badge.svg\" alt=\"Open In Colab\"/></a>"
      ]
    },
    {
      "cell_type": "code",
      "execution_count": 21,
      "metadata": {
        "colab": {
          "base_uri": "https://localhost:8080/"
        },
        "id": "hsxfhqut8VIn",
        "outputId": "be15dcab-3604-4c0e-eb60-0b0a1e0358b4"
      },
      "outputs": [
        {
          "output_type": "stream",
          "name": "stdout",
          "text": [
            "WSB-MERITO\n",
            "10\n"
          ]
        }
      ],
      "source": [
        "#. Write a Python program to calculate the length of a string.\n",
        "def string_length(strin):\n",
        "\n",
        "    count = 0\n",
        "    for char in strin:\n",
        "     count += 1\n",
        "    return count\n",
        "print(string_length(input()))"
      ]
    },
    {
      "cell_type": "code",
      "source": [
        "# Get a single string from two given strings, separated by a space and swap the first two characters of each string\n",
        "def chars_mix_up(a, b):\n",
        "    new_a = b[:2] + a[2:]\n",
        "    new_b = a[:2] + b[2:]\n",
        "    return new_a + ' ' + new_b\n",
        "print(chars_mix_up(input(), input()))"
      ],
      "metadata": {
        "colab": {
          "base_uri": "https://localhost:8080/"
        },
        "id": "8puf1JL79oTY",
        "outputId": "be2f4ab3-110c-4cc9-aa5f-d046d4446be0"
      },
      "execution_count": 27,
      "outputs": [
        {
          "output_type": "stream",
          "name": "stdout",
          "text": [
            "123\n",
            "aa\n",
            "aa3 12\n"
          ]
        }
      ]
    },
    {
      "cell_type": "code",
      "source": [],
      "metadata": {
        "id": "ggq1TKHpBDjr"
      },
      "execution_count": null,
      "outputs": []
    },
    {
      "cell_type": "code",
      "source": [],
      "metadata": {
        "id": "l_k48rFnBMQ7"
      },
      "execution_count": null,
      "outputs": []
    }
  ]
}